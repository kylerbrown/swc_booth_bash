{
 "cells": [
  {
   "cell_type": "code",
   "execution_count": 1,
   "metadata": {
    "collapsed": true
   },
   "outputs": [],
   "source": [
    "import pandas as pd"
   ]
  },
  {
   "cell_type": "code",
   "execution_count": 2,
   "metadata": {
    "collapsed": true
   },
   "outputs": [],
   "source": [
    "df = pd.read_csv(\"311_Service_Requests_-_Graffiti_Removal.csv\")"
   ]
  },
  {
   "cell_type": "code",
   "execution_count": 5,
   "metadata": {
    "collapsed": false
   },
   "outputs": [
    {
     "data": {
      "text/plain": [
       "Index(['Creation Date', 'Status', 'Completion Date', 'Service Request Number',\n",
       "       'Type of Service Request', 'What Type of Surface is the Graffiti on?',\n",
       "       'Where is the Graffiti located?', 'Street Address', 'ZIP Code',\n",
       "       'X Coordinate', 'Y Coordinate', 'Ward', 'Police District',\n",
       "       'Community Area', 'SSA', 'Latitude', 'Longitude', 'Location'],\n",
       "      dtype='object')"
      ]
     },
     "execution_count": 5,
     "metadata": {},
     "output_type": "execute_result"
    }
   ],
   "source": [
    "df.columns"
   ]
  },
  {
   "cell_type": "code",
   "execution_count": 6,
   "metadata": {
    "collapsed": false
   },
   "outputs": [
    {
     "data": {
      "text/html": [
       "<div>\n",
       "<table border=\"1\" class=\"dataframe\">\n",
       "  <thead>\n",
       "    <tr style=\"text-align: right;\">\n",
       "      <th></th>\n",
       "      <th>Creation Date</th>\n",
       "      <th>Status</th>\n",
       "      <th>Completion Date</th>\n",
       "      <th>Service Request Number</th>\n",
       "      <th>Type of Service Request</th>\n",
       "      <th>What Type of Surface is the Graffiti on?</th>\n",
       "      <th>Where is the Graffiti located?</th>\n",
       "      <th>Street Address</th>\n",
       "      <th>ZIP Code</th>\n",
       "      <th>X Coordinate</th>\n",
       "      <th>Y Coordinate</th>\n",
       "      <th>Ward</th>\n",
       "      <th>Police District</th>\n",
       "      <th>Community Area</th>\n",
       "      <th>SSA</th>\n",
       "      <th>Latitude</th>\n",
       "      <th>Longitude</th>\n",
       "      <th>Location</th>\n",
       "    </tr>\n",
       "  </thead>\n",
       "  <tbody>\n",
       "    <tr>\n",
       "      <th>0</th>\n",
       "      <td>09/20/2015</td>\n",
       "      <td>Open - Dup</td>\n",
       "      <td>NaN</td>\n",
       "      <td>15-04919548</td>\n",
       "      <td>Graffiti Removal</td>\n",
       "      <td>Aluminum Siding</td>\n",
       "      <td>Front</td>\n",
       "      <td>4243 N LINCOLN AVE</td>\n",
       "      <td>60618</td>\n",
       "      <td>1161401.618809</td>\n",
       "      <td>1928248.759390</td>\n",
       "      <td>47</td>\n",
       "      <td>19</td>\n",
       "      <td>5</td>\n",
       "      <td>38</td>\n",
       "      <td>41.958942</td>\n",
       "      <td>-87.681950</td>\n",
       "      <td>(41.95894228986967, -87.6819497564818)</td>\n",
       "    </tr>\n",
       "    <tr>\n",
       "      <th>1</th>\n",
       "      <td>09/20/2015</td>\n",
       "      <td>Open - Dup</td>\n",
       "      <td>NaN</td>\n",
       "      <td>15-04918759</td>\n",
       "      <td>Graffiti Removal</td>\n",
       "      <td>Cement (Sidewalk, Alley, Wall, Curb)</td>\n",
       "      <td>Front</td>\n",
       "      <td>500 W DICKENS AVE</td>\n",
       "      <td>60614</td>\n",
       "      <td>1172587.768504</td>\n",
       "      <td>1914237.669181</td>\n",
       "      <td>43</td>\n",
       "      <td>18</td>\n",
       "      <td>7</td>\n",
       "      <td>NaN</td>\n",
       "      <td>41.920218</td>\n",
       "      <td>-87.641368</td>\n",
       "      <td>(41.920218391071195, -87.64136819278309)</td>\n",
       "    </tr>\n",
       "    <tr>\n",
       "      <th>2</th>\n",
       "      <td>09/20/2015</td>\n",
       "      <td>Open - Dup</td>\n",
       "      <td>NaN</td>\n",
       "      <td>15-04918750</td>\n",
       "      <td>Graffiti Removal</td>\n",
       "      <td>Tree</td>\n",
       "      <td>Rear</td>\n",
       "      <td>2535 N ASHLAND AVE</td>\n",
       "      <td>60614</td>\n",
       "      <td>1165238.430818</td>\n",
       "      <td>1916910.924730</td>\n",
       "      <td>32</td>\n",
       "      <td>19</td>\n",
       "      <td>7</td>\n",
       "      <td>NaN</td>\n",
       "      <td>41.928013</td>\n",
       "      <td>-87.668098</td>\n",
       "      <td>(41.92801327595187, -87.66809794936167)</td>\n",
       "    </tr>\n",
       "    <tr>\n",
       "      <th>3</th>\n",
       "      <td>09/20/2015</td>\n",
       "      <td>Open - Dup</td>\n",
       "      <td>NaN</td>\n",
       "      <td>15-04918261</td>\n",
       "      <td>Graffiti Removal</td>\n",
       "      <td>Metal - Painted</td>\n",
       "      <td>Sign</td>\n",
       "      <td>4243 N LINCOLN AVE</td>\n",
       "      <td>60618</td>\n",
       "      <td>1161401.618809</td>\n",
       "      <td>1928248.759390</td>\n",
       "      <td>47</td>\n",
       "      <td>19</td>\n",
       "      <td>5</td>\n",
       "      <td>38</td>\n",
       "      <td>41.958942</td>\n",
       "      <td>-87.681950</td>\n",
       "      <td>(41.95894228986967, -87.6819497564818)</td>\n",
       "    </tr>\n",
       "    <tr>\n",
       "      <th>4</th>\n",
       "      <td>09/20/2015</td>\n",
       "      <td>Open - Dup</td>\n",
       "      <td>NaN</td>\n",
       "      <td>15-04918754</td>\n",
       "      <td>Graffiti Removal</td>\n",
       "      <td>Other/Unknown Surface</td>\n",
       "      <td>Garage</td>\n",
       "      <td>2535 N ASHLAND AVE</td>\n",
       "      <td>60614</td>\n",
       "      <td>1165238.430818</td>\n",
       "      <td>1916910.924730</td>\n",
       "      <td>32</td>\n",
       "      <td>19</td>\n",
       "      <td>7</td>\n",
       "      <td>NaN</td>\n",
       "      <td>41.928013</td>\n",
       "      <td>-87.668098</td>\n",
       "      <td>(41.92801327595187, -87.66809794936167)</td>\n",
       "    </tr>\n",
       "  </tbody>\n",
       "</table>\n",
       "</div>"
      ],
      "text/plain": [
       "  Creation Date      Status Completion Date Service Request Number  \\\n",
       "0    09/20/2015  Open - Dup             NaN            15-04919548   \n",
       "1    09/20/2015  Open - Dup             NaN            15-04918759   \n",
       "2    09/20/2015  Open - Dup             NaN            15-04918750   \n",
       "3    09/20/2015  Open - Dup             NaN            15-04918261   \n",
       "4    09/20/2015  Open - Dup             NaN            15-04918754   \n",
       "\n",
       "  Type of Service Request What Type of Surface is the Graffiti on?  \\\n",
       "0        Graffiti Removal                          Aluminum Siding   \n",
       "1        Graffiti Removal     Cement (Sidewalk, Alley, Wall, Curb)   \n",
       "2        Graffiti Removal                                     Tree   \n",
       "3        Graffiti Removal                          Metal - Painted   \n",
       "4        Graffiti Removal                    Other/Unknown Surface   \n",
       "\n",
       "  Where is the Graffiti located?      Street Address  ZIP Code  \\\n",
       "0                          Front  4243 N LINCOLN AVE     60618   \n",
       "1                          Front   500 W DICKENS AVE     60614   \n",
       "2                           Rear  2535 N ASHLAND AVE     60614   \n",
       "3                           Sign  4243 N LINCOLN AVE     60618   \n",
       "4                         Garage  2535 N ASHLAND AVE     60614   \n",
       "\n",
       "     X Coordinate    Y Coordinate  Ward  Police District  Community Area  SSA  \\\n",
       "0  1161401.618809  1928248.759390    47               19               5   38   \n",
       "1  1172587.768504  1914237.669181    43               18               7  NaN   \n",
       "2  1165238.430818  1916910.924730    32               19               7  NaN   \n",
       "3  1161401.618809  1928248.759390    47               19               5   38   \n",
       "4  1165238.430818  1916910.924730    32               19               7  NaN   \n",
       "\n",
       "    Latitude  Longitude                                  Location  \n",
       "0  41.958942 -87.681950    (41.95894228986967, -87.6819497564818)  \n",
       "1  41.920218 -87.641368  (41.920218391071195, -87.64136819278309)  \n",
       "2  41.928013 -87.668098   (41.92801327595187, -87.66809794936167)  \n",
       "3  41.958942 -87.681950    (41.95894228986967, -87.6819497564818)  \n",
       "4  41.928013 -87.668098   (41.92801327595187, -87.66809794936167)  "
      ]
     },
     "execution_count": 6,
     "metadata": {},
     "output_type": "execute_result"
    }
   ],
   "source": [
    "df.head()"
   ]
  },
  {
   "cell_type": "code",
   "execution_count": 7,
   "metadata": {
    "collapsed": true
   },
   "outputs": [],
   "source": [
    "df.drop('Completion Date', 1, inplace=True)"
   ]
  },
  {
   "cell_type": "code",
   "execution_count": 8,
   "metadata": {
    "collapsed": true
   },
   "outputs": [],
   "source": [
    "df.drop('X Coordinate', 1, inplace=True)"
   ]
  },
  {
   "cell_type": "code",
   "execution_count": 9,
   "metadata": {
    "collapsed": true
   },
   "outputs": [],
   "source": [
    "df.drop('Y Coordinate', 1, inplace=True)"
   ]
  },
  {
   "cell_type": "code",
   "execution_count": 10,
   "metadata": {
    "collapsed": true
   },
   "outputs": [],
   "source": [
    "df.drop('Creation Date', 1, inplace=True)"
   ]
  },
  {
   "cell_type": "code",
   "execution_count": 11,
   "metadata": {
    "collapsed": true
   },
   "outputs": [],
   "source": [
    "df.drop('Status', 1, inplace=True)"
   ]
  },
  {
   "cell_type": "code",
   "execution_count": 12,
   "metadata": {
    "collapsed": false
   },
   "outputs": [
    {
     "data": {
      "text/html": [
       "<div>\n",
       "<table border=\"1\" class=\"dataframe\">\n",
       "  <thead>\n",
       "    <tr style=\"text-align: right;\">\n",
       "      <th></th>\n",
       "      <th>Service Request Number</th>\n",
       "      <th>Type of Service Request</th>\n",
       "      <th>What Type of Surface is the Graffiti on?</th>\n",
       "      <th>Where is the Graffiti located?</th>\n",
       "      <th>Street Address</th>\n",
       "      <th>ZIP Code</th>\n",
       "      <th>Ward</th>\n",
       "      <th>Police District</th>\n",
       "      <th>Community Area</th>\n",
       "      <th>SSA</th>\n",
       "      <th>Latitude</th>\n",
       "      <th>Longitude</th>\n",
       "      <th>Location</th>\n",
       "    </tr>\n",
       "  </thead>\n",
       "  <tbody>\n",
       "    <tr>\n",
       "      <th>0</th>\n",
       "      <td>15-04919548</td>\n",
       "      <td>Graffiti Removal</td>\n",
       "      <td>Aluminum Siding</td>\n",
       "      <td>Front</td>\n",
       "      <td>4243 N LINCOLN AVE</td>\n",
       "      <td>60618</td>\n",
       "      <td>47</td>\n",
       "      <td>19</td>\n",
       "      <td>5</td>\n",
       "      <td>38</td>\n",
       "      <td>41.958942</td>\n",
       "      <td>-87.681950</td>\n",
       "      <td>(41.95894228986967, -87.6819497564818)</td>\n",
       "    </tr>\n",
       "    <tr>\n",
       "      <th>1</th>\n",
       "      <td>15-04918759</td>\n",
       "      <td>Graffiti Removal</td>\n",
       "      <td>Cement (Sidewalk, Alley, Wall, Curb)</td>\n",
       "      <td>Front</td>\n",
       "      <td>500 W DICKENS AVE</td>\n",
       "      <td>60614</td>\n",
       "      <td>43</td>\n",
       "      <td>18</td>\n",
       "      <td>7</td>\n",
       "      <td>NaN</td>\n",
       "      <td>41.920218</td>\n",
       "      <td>-87.641368</td>\n",
       "      <td>(41.920218391071195, -87.64136819278309)</td>\n",
       "    </tr>\n",
       "    <tr>\n",
       "      <th>2</th>\n",
       "      <td>15-04918750</td>\n",
       "      <td>Graffiti Removal</td>\n",
       "      <td>Tree</td>\n",
       "      <td>Rear</td>\n",
       "      <td>2535 N ASHLAND AVE</td>\n",
       "      <td>60614</td>\n",
       "      <td>32</td>\n",
       "      <td>19</td>\n",
       "      <td>7</td>\n",
       "      <td>NaN</td>\n",
       "      <td>41.928013</td>\n",
       "      <td>-87.668098</td>\n",
       "      <td>(41.92801327595187, -87.66809794936167)</td>\n",
       "    </tr>\n",
       "    <tr>\n",
       "      <th>3</th>\n",
       "      <td>15-04918261</td>\n",
       "      <td>Graffiti Removal</td>\n",
       "      <td>Metal - Painted</td>\n",
       "      <td>Sign</td>\n",
       "      <td>4243 N LINCOLN AVE</td>\n",
       "      <td>60618</td>\n",
       "      <td>47</td>\n",
       "      <td>19</td>\n",
       "      <td>5</td>\n",
       "      <td>38</td>\n",
       "      <td>41.958942</td>\n",
       "      <td>-87.681950</td>\n",
       "      <td>(41.95894228986967, -87.6819497564818)</td>\n",
       "    </tr>\n",
       "    <tr>\n",
       "      <th>4</th>\n",
       "      <td>15-04918754</td>\n",
       "      <td>Graffiti Removal</td>\n",
       "      <td>Other/Unknown Surface</td>\n",
       "      <td>Garage</td>\n",
       "      <td>2535 N ASHLAND AVE</td>\n",
       "      <td>60614</td>\n",
       "      <td>32</td>\n",
       "      <td>19</td>\n",
       "      <td>7</td>\n",
       "      <td>NaN</td>\n",
       "      <td>41.928013</td>\n",
       "      <td>-87.668098</td>\n",
       "      <td>(41.92801327595187, -87.66809794936167)</td>\n",
       "    </tr>\n",
       "  </tbody>\n",
       "</table>\n",
       "</div>"
      ],
      "text/plain": [
       "  Service Request Number Type of Service Request  \\\n",
       "0            15-04919548        Graffiti Removal   \n",
       "1            15-04918759        Graffiti Removal   \n",
       "2            15-04918750        Graffiti Removal   \n",
       "3            15-04918261        Graffiti Removal   \n",
       "4            15-04918754        Graffiti Removal   \n",
       "\n",
       "  What Type of Surface is the Graffiti on? Where is the Graffiti located?  \\\n",
       "0                          Aluminum Siding                          Front   \n",
       "1     Cement (Sidewalk, Alley, Wall, Curb)                          Front   \n",
       "2                                     Tree                           Rear   \n",
       "3                          Metal - Painted                           Sign   \n",
       "4                    Other/Unknown Surface                         Garage   \n",
       "\n",
       "       Street Address  ZIP Code  Ward  Police District  Community Area  SSA  \\\n",
       "0  4243 N LINCOLN AVE     60618    47               19               5   38   \n",
       "1   500 W DICKENS AVE     60614    43               18               7  NaN   \n",
       "2  2535 N ASHLAND AVE     60614    32               19               7  NaN   \n",
       "3  4243 N LINCOLN AVE     60618    47               19               5   38   \n",
       "4  2535 N ASHLAND AVE     60614    32               19               7  NaN   \n",
       "\n",
       "    Latitude  Longitude                                  Location  \n",
       "0  41.958942 -87.681950    (41.95894228986967, -87.6819497564818)  \n",
       "1  41.920218 -87.641368  (41.920218391071195, -87.64136819278309)  \n",
       "2  41.928013 -87.668098   (41.92801327595187, -87.66809794936167)  \n",
       "3  41.958942 -87.681950    (41.95894228986967, -87.6819497564818)  \n",
       "4  41.928013 -87.668098   (41.92801327595187, -87.66809794936167)  "
      ]
     },
     "execution_count": 12,
     "metadata": {},
     "output_type": "execute_result"
    }
   ],
   "source": [
    "df.head()"
   ]
  },
  {
   "cell_type": "code",
   "execution_count": 13,
   "metadata": {
    "collapsed": true
   },
   "outputs": [],
   "source": [
    "df.drop('SSA', 1, inplace=True)"
   ]
  },
  {
   "cell_type": "code",
   "execution_count": 14,
   "metadata": {
    "collapsed": true
   },
   "outputs": [],
   "source": [
    "df.drop('Latitude', 1, inplace=True)"
   ]
  },
  {
   "cell_type": "code",
   "execution_count": 15,
   "metadata": {
    "collapsed": true
   },
   "outputs": [],
   "source": [
    "df.drop('Longitude', 1, inplace=True)"
   ]
  },
  {
   "cell_type": "code",
   "execution_count": 16,
   "metadata": {
    "collapsed": false
   },
   "outputs": [
    {
     "data": {
      "text/html": [
       "<div>\n",
       "<table border=\"1\" class=\"dataframe\">\n",
       "  <thead>\n",
       "    <tr style=\"text-align: right;\">\n",
       "      <th></th>\n",
       "      <th>Service Request Number</th>\n",
       "      <th>Type of Service Request</th>\n",
       "      <th>What Type of Surface is the Graffiti on?</th>\n",
       "      <th>Where is the Graffiti located?</th>\n",
       "      <th>Street Address</th>\n",
       "      <th>ZIP Code</th>\n",
       "      <th>Ward</th>\n",
       "      <th>Police District</th>\n",
       "      <th>Community Area</th>\n",
       "      <th>Location</th>\n",
       "    </tr>\n",
       "  </thead>\n",
       "  <tbody>\n",
       "    <tr>\n",
       "      <th>0</th>\n",
       "      <td>15-04919548</td>\n",
       "      <td>Graffiti Removal</td>\n",
       "      <td>Aluminum Siding</td>\n",
       "      <td>Front</td>\n",
       "      <td>4243 N LINCOLN AVE</td>\n",
       "      <td>60618</td>\n",
       "      <td>47</td>\n",
       "      <td>19</td>\n",
       "      <td>5</td>\n",
       "      <td>(41.95894228986967, -87.6819497564818)</td>\n",
       "    </tr>\n",
       "    <tr>\n",
       "      <th>1</th>\n",
       "      <td>15-04918759</td>\n",
       "      <td>Graffiti Removal</td>\n",
       "      <td>Cement (Sidewalk, Alley, Wall, Curb)</td>\n",
       "      <td>Front</td>\n",
       "      <td>500 W DICKENS AVE</td>\n",
       "      <td>60614</td>\n",
       "      <td>43</td>\n",
       "      <td>18</td>\n",
       "      <td>7</td>\n",
       "      <td>(41.920218391071195, -87.64136819278309)</td>\n",
       "    </tr>\n",
       "    <tr>\n",
       "      <th>2</th>\n",
       "      <td>15-04918750</td>\n",
       "      <td>Graffiti Removal</td>\n",
       "      <td>Tree</td>\n",
       "      <td>Rear</td>\n",
       "      <td>2535 N ASHLAND AVE</td>\n",
       "      <td>60614</td>\n",
       "      <td>32</td>\n",
       "      <td>19</td>\n",
       "      <td>7</td>\n",
       "      <td>(41.92801327595187, -87.66809794936167)</td>\n",
       "    </tr>\n",
       "    <tr>\n",
       "      <th>3</th>\n",
       "      <td>15-04918261</td>\n",
       "      <td>Graffiti Removal</td>\n",
       "      <td>Metal - Painted</td>\n",
       "      <td>Sign</td>\n",
       "      <td>4243 N LINCOLN AVE</td>\n",
       "      <td>60618</td>\n",
       "      <td>47</td>\n",
       "      <td>19</td>\n",
       "      <td>5</td>\n",
       "      <td>(41.95894228986967, -87.6819497564818)</td>\n",
       "    </tr>\n",
       "    <tr>\n",
       "      <th>4</th>\n",
       "      <td>15-04918754</td>\n",
       "      <td>Graffiti Removal</td>\n",
       "      <td>Other/Unknown Surface</td>\n",
       "      <td>Garage</td>\n",
       "      <td>2535 N ASHLAND AVE</td>\n",
       "      <td>60614</td>\n",
       "      <td>32</td>\n",
       "      <td>19</td>\n",
       "      <td>7</td>\n",
       "      <td>(41.92801327595187, -87.66809794936167)</td>\n",
       "    </tr>\n",
       "  </tbody>\n",
       "</table>\n",
       "</div>"
      ],
      "text/plain": [
       "  Service Request Number Type of Service Request  \\\n",
       "0            15-04919548        Graffiti Removal   \n",
       "1            15-04918759        Graffiti Removal   \n",
       "2            15-04918750        Graffiti Removal   \n",
       "3            15-04918261        Graffiti Removal   \n",
       "4            15-04918754        Graffiti Removal   \n",
       "\n",
       "  What Type of Surface is the Graffiti on? Where is the Graffiti located?  \\\n",
       "0                          Aluminum Siding                          Front   \n",
       "1     Cement (Sidewalk, Alley, Wall, Curb)                          Front   \n",
       "2                                     Tree                           Rear   \n",
       "3                          Metal - Painted                           Sign   \n",
       "4                    Other/Unknown Surface                         Garage   \n",
       "\n",
       "       Street Address  ZIP Code  Ward  Police District  Community Area  \\\n",
       "0  4243 N LINCOLN AVE     60618    47               19               5   \n",
       "1   500 W DICKENS AVE     60614    43               18               7   \n",
       "2  2535 N ASHLAND AVE     60614    32               19               7   \n",
       "3  4243 N LINCOLN AVE     60618    47               19               5   \n",
       "4  2535 N ASHLAND AVE     60614    32               19               7   \n",
       "\n",
       "                                   Location  \n",
       "0    (41.95894228986967, -87.6819497564818)  \n",
       "1  (41.920218391071195, -87.64136819278309)  \n",
       "2   (41.92801327595187, -87.66809794936167)  \n",
       "3    (41.95894228986967, -87.6819497564818)  \n",
       "4   (41.92801327595187, -87.66809794936167)  "
      ]
     },
     "execution_count": 16,
     "metadata": {},
     "output_type": "execute_result"
    }
   ],
   "source": [
    "df.head()"
   ]
  },
  {
   "cell_type": "code",
   "execution_count": 17,
   "metadata": {
    "collapsed": true
   },
   "outputs": [],
   "source": [
    "df.drop('Location', 1, inplace=True)"
   ]
  },
  {
   "cell_type": "code",
   "execution_count": 18,
   "metadata": {
    "collapsed": true
   },
   "outputs": [],
   "source": [
    "df.drop('Type of Service Request', 1, inplace=True)"
   ]
  },
  {
   "cell_type": "code",
   "execution_count": 20,
   "metadata": {
    "collapsed": false
   },
   "outputs": [
    {
     "ename": "ValueError",
     "evalue": "labels ['What Type of Surface is the Graffiti on?'] not contained in axis",
     "output_type": "error",
     "traceback": [
      "\u001b[1;31m---------------------------------------------------------------------------\u001b[0m",
      "\u001b[1;31mValueError\u001b[0m                                Traceback (most recent call last)",
      "\u001b[1;32m<ipython-input-20-7eb4fdb0b287>\u001b[0m in \u001b[0;36m<module>\u001b[1;34m()\u001b[0m\n\u001b[1;32m----> 1\u001b[1;33m \u001b[0mdf\u001b[0m\u001b[1;33m.\u001b[0m\u001b[0mdrop\u001b[0m\u001b[1;33m(\u001b[0m\u001b[1;34m'What Type of Surface is the Graffiti on?'\u001b[0m\u001b[1;33m,\u001b[0m \u001b[1;36m1\u001b[0m\u001b[1;33m,\u001b[0m \u001b[0minplace\u001b[0m\u001b[1;33m=\u001b[0m\u001b[1;32mTrue\u001b[0m\u001b[1;33m)\u001b[0m\u001b[1;33m\u001b[0m\u001b[0m\n\u001b[0m",
      "\u001b[1;32m/home/kyler/miniconda3/lib/python3.3/site-packages/pandas/core/generic.py\u001b[0m in \u001b[0;36mdrop\u001b[1;34m(self, labels, axis, level, inplace, errors)\u001b[0m\n\u001b[0;32m   1595\u001b[0m                 \u001b[0mnew_axis\u001b[0m \u001b[1;33m=\u001b[0m \u001b[0maxis\u001b[0m\u001b[1;33m.\u001b[0m\u001b[0mdrop\u001b[0m\u001b[1;33m(\u001b[0m\u001b[0mlabels\u001b[0m\u001b[1;33m,\u001b[0m \u001b[0mlevel\u001b[0m\u001b[1;33m=\u001b[0m\u001b[0mlevel\u001b[0m\u001b[1;33m,\u001b[0m \u001b[0merrors\u001b[0m\u001b[1;33m=\u001b[0m\u001b[0merrors\u001b[0m\u001b[1;33m)\u001b[0m\u001b[1;33m\u001b[0m\u001b[0m\n\u001b[0;32m   1596\u001b[0m             \u001b[1;32melse\u001b[0m\u001b[1;33m:\u001b[0m\u001b[1;33m\u001b[0m\u001b[0m\n\u001b[1;32m-> 1597\u001b[1;33m                 \u001b[0mnew_axis\u001b[0m \u001b[1;33m=\u001b[0m \u001b[0maxis\u001b[0m\u001b[1;33m.\u001b[0m\u001b[0mdrop\u001b[0m\u001b[1;33m(\u001b[0m\u001b[0mlabels\u001b[0m\u001b[1;33m,\u001b[0m \u001b[0merrors\u001b[0m\u001b[1;33m=\u001b[0m\u001b[0merrors\u001b[0m\u001b[1;33m)\u001b[0m\u001b[1;33m\u001b[0m\u001b[0m\n\u001b[0m\u001b[0;32m   1598\u001b[0m             \u001b[0mdropped\u001b[0m \u001b[1;33m=\u001b[0m \u001b[0mself\u001b[0m\u001b[1;33m.\u001b[0m\u001b[0mreindex\u001b[0m\u001b[1;33m(\u001b[0m\u001b[1;33m**\u001b[0m\u001b[1;33m{\u001b[0m\u001b[0maxis_name\u001b[0m\u001b[1;33m:\u001b[0m \u001b[0mnew_axis\u001b[0m\u001b[1;33m}\u001b[0m\u001b[1;33m)\u001b[0m\u001b[1;33m\u001b[0m\u001b[0m\n\u001b[0;32m   1599\u001b[0m             \u001b[1;32mtry\u001b[0m\u001b[1;33m:\u001b[0m\u001b[1;33m\u001b[0m\u001b[0m\n",
      "\u001b[1;32m/home/kyler/miniconda3/lib/python3.3/site-packages/pandas/core/index.py\u001b[0m in \u001b[0;36mdrop\u001b[1;34m(self, labels, errors)\u001b[0m\n\u001b[0;32m   2568\u001b[0m         \u001b[1;32mif\u001b[0m \u001b[0mmask\u001b[0m\u001b[1;33m.\u001b[0m\u001b[0many\u001b[0m\u001b[1;33m(\u001b[0m\u001b[1;33m)\u001b[0m\u001b[1;33m:\u001b[0m\u001b[1;33m\u001b[0m\u001b[0m\n\u001b[0;32m   2569\u001b[0m             \u001b[1;32mif\u001b[0m \u001b[0merrors\u001b[0m \u001b[1;33m!=\u001b[0m \u001b[1;34m'ignore'\u001b[0m\u001b[1;33m:\u001b[0m\u001b[1;33m\u001b[0m\u001b[0m\n\u001b[1;32m-> 2570\u001b[1;33m                 \u001b[1;32mraise\u001b[0m \u001b[0mValueError\u001b[0m\u001b[1;33m(\u001b[0m\u001b[1;34m'labels %s not contained in axis'\u001b[0m \u001b[1;33m%\u001b[0m \u001b[0mlabels\u001b[0m\u001b[1;33m[\u001b[0m\u001b[0mmask\u001b[0m\u001b[1;33m]\u001b[0m\u001b[1;33m)\u001b[0m\u001b[1;33m\u001b[0m\u001b[0m\n\u001b[0m\u001b[0;32m   2571\u001b[0m             \u001b[0mindexer\u001b[0m \u001b[1;33m=\u001b[0m \u001b[0mindexer\u001b[0m\u001b[1;33m[\u001b[0m\u001b[1;33m~\u001b[0m\u001b[0mmask\u001b[0m\u001b[1;33m]\u001b[0m\u001b[1;33m\u001b[0m\u001b[0m\n\u001b[0;32m   2572\u001b[0m         \u001b[1;32mreturn\u001b[0m \u001b[0mself\u001b[0m\u001b[1;33m.\u001b[0m\u001b[0mdelete\u001b[0m\u001b[1;33m(\u001b[0m\u001b[0mindexer\u001b[0m\u001b[1;33m)\u001b[0m\u001b[1;33m\u001b[0m\u001b[0m\n",
      "\u001b[1;31mValueError\u001b[0m: labels ['What Type of Surface is the Graffiti on?'] not contained in axis"
     ]
    }
   ],
   "source": [
    "df.drop('What Type of Surface is the Graffiti on?', 1, inplace=True)"
   ]
  },
  {
   "cell_type": "code",
   "execution_count": 21,
   "metadata": {
    "collapsed": true
   },
   "outputs": [],
   "source": [
    "df.drop('Where is the Graffiti located?', 1, inplace=True)"
   ]
  },
  {
   "cell_type": "code",
   "execution_count": 22,
   "metadata": {
    "collapsed": true
   },
   "outputs": [],
   "source": [
    "df.drop('Street Address', 1, inplace=True)"
   ]
  },
  {
   "cell_type": "code",
   "execution_count": 23,
   "metadata": {
    "collapsed": false
   },
   "outputs": [
    {
     "data": {
      "text/html": [
       "<div>\n",
       "<table border=\"1\" class=\"dataframe\">\n",
       "  <thead>\n",
       "    <tr style=\"text-align: right;\">\n",
       "      <th></th>\n",
       "      <th>Service Request Number</th>\n",
       "      <th>ZIP Code</th>\n",
       "      <th>Ward</th>\n",
       "      <th>Police District</th>\n",
       "      <th>Community Area</th>\n",
       "    </tr>\n",
       "  </thead>\n",
       "  <tbody>\n",
       "    <tr>\n",
       "      <th>0</th>\n",
       "      <td>15-04919548</td>\n",
       "      <td>60618</td>\n",
       "      <td>47</td>\n",
       "      <td>19</td>\n",
       "      <td>5</td>\n",
       "    </tr>\n",
       "    <tr>\n",
       "      <th>1</th>\n",
       "      <td>15-04918759</td>\n",
       "      <td>60614</td>\n",
       "      <td>43</td>\n",
       "      <td>18</td>\n",
       "      <td>7</td>\n",
       "    </tr>\n",
       "    <tr>\n",
       "      <th>2</th>\n",
       "      <td>15-04918750</td>\n",
       "      <td>60614</td>\n",
       "      <td>32</td>\n",
       "      <td>19</td>\n",
       "      <td>7</td>\n",
       "    </tr>\n",
       "    <tr>\n",
       "      <th>3</th>\n",
       "      <td>15-04918261</td>\n",
       "      <td>60618</td>\n",
       "      <td>47</td>\n",
       "      <td>19</td>\n",
       "      <td>5</td>\n",
       "    </tr>\n",
       "    <tr>\n",
       "      <th>4</th>\n",
       "      <td>15-04918754</td>\n",
       "      <td>60614</td>\n",
       "      <td>32</td>\n",
       "      <td>19</td>\n",
       "      <td>7</td>\n",
       "    </tr>\n",
       "  </tbody>\n",
       "</table>\n",
       "</div>"
      ],
      "text/plain": [
       "  Service Request Number  ZIP Code  Ward  Police District  Community Area\n",
       "0            15-04919548     60618    47               19               5\n",
       "1            15-04918759     60614    43               18               7\n",
       "2            15-04918750     60614    32               19               7\n",
       "3            15-04918261     60618    47               19               5\n",
       "4            15-04918754     60614    32               19               7"
      ]
     },
     "execution_count": 23,
     "metadata": {},
     "output_type": "execute_result"
    }
   ],
   "source": [
    "df.head()"
   ]
  },
  {
   "cell_type": "code",
   "execution_count": 29,
   "metadata": {
    "collapsed": false
   },
   "outputs": [],
   "source": [
    "zips = df['ZIP Code'].unique()"
   ]
  },
  {
   "cell_type": "code",
   "execution_count": 36,
   "metadata": {
    "collapsed": false
   },
   "outputs": [],
   "source": [
    "for z in zips:\n",
    "    grafs = df[df['ZIP Code'] == z]\n",
    "    if pd.isnull(z):\n",
    "        continue\n",
    "    grafs.to_csv(str(int(z)), header=False, index=False)"
   ]
  }
 ],
 "metadata": {
  "kernelspec": {
   "display_name": "Python 3",
   "language": "python",
   "name": "python3"
  },
  "language_info": {
   "codemirror_mode": {
    "name": "ipython",
    "version": 3
   },
   "file_extension": ".py",
   "mimetype": "text/x-python",
   "name": "python",
   "nbconvert_exporter": "python",
   "pygments_lexer": "ipython3",
   "version": "3.3.5"
  }
 },
 "nbformat": 4,
 "nbformat_minor": 0
}
